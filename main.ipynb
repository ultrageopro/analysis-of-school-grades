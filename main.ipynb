{
 "cells": [
  {
   "cell_type": "code",
   "execution_count": null,
   "metadata": {},
   "outputs": [],
   "source": [
    "from __future__ import annotations\n",
    "\n",
    "import logging\n",
    "import pathlib\n",
    "\n",
    "import matplotlib.pyplot as plt\n",
    "import pandas as pd\n",
    "import seaborn as sns\n",
    "\n",
    "logger = logging.getLogger(__name__)\n",
    "logger.setLevel(logging.INFO)\n"
   ]
  },
  {
   "cell_type": "code",
   "execution_count": 13,
   "metadata": {},
   "outputs": [],
   "source": [
    "subjects = {\n",
    "    \"Биология\": \"biology\",\n",
    "    \"Физика\": \"physics\",\n",
    "    \"Математика\": \"math\",\n",
    "    \"Информатика\": \"informatics\",\n",
    "    \"Религиоведение\": \"religion\",\n",
    "    \"Английский\": \"english\",\n",
    "    \"Программирование\": \"programming\",\n",
    "    \"История\": \"history\",\n",
    "    \"Литература\": \"literature\",\n",
    "    \"География\": \"geography\",\n",
    "    \"Введение в геометрию\": \"intro-geometry\",\n",
    "    \"Музыка\": \"music\",\n",
    "    \"Физическая культура\": \"physical-culture\",\n",
    "    \"Русский язык\": \"russian\",\n",
    "    \"Обществознание\": \"sociology\",\n",
    "    \"Алгебра\": \"algebra\",\n",
    "    \"Введение в химию\": \"intro-chemistry\",\n",
    "    \"Вероятность и статистика\": \"statistics\",\n",
    "    \"Геометрия\": \"geometry\",\n",
    "    \"Немецкий язык\": \"german\",\n",
    "}\n",
    "\n",
    "trimesters = {\n",
    "    \"III триместр\": \"3\",\n",
    "    \"II триместр\": \"2\",\n",
    "    \"I триместр\": \"1\",\n",
    "}"
   ]
  },
  {
   "cell_type": "code",
   "execution_count": null,
   "metadata": {},
   "outputs": [
    {
     "name": "stdout",
     "output_type": "stream",
     "text": [
      "2022-2023_5-2_biology_1\n"
     ]
    },
    {
     "ename": "ValueError",
     "evalue": "not enough values to unpack (expected 5, got 4)",
     "output_type": "error",
     "traceback": [
      "\u001b[0;31m---------------------------------------------------------------------------\u001b[0m",
      "\u001b[0;31mValueError\u001b[0m                                Traceback (most recent call last)",
      "Cell \u001b[0;32mIn[11], line 28\u001b[0m\n\u001b[1;32m     25\u001b[0m suffix \u001b[38;5;241m=\u001b[39m file\u001b[38;5;241m.\u001b[39msuffix\n\u001b[1;32m     26\u001b[0m name \u001b[38;5;241m=\u001b[39m file\u001b[38;5;241m.\u001b[39mstem\n\u001b[0;32m---> 28\u001b[0m new_name_dict \u001b[38;5;241m=\u001b[39m \u001b[43mget_new_name\u001b[49m\u001b[43m(\u001b[49m\u001b[43mname\u001b[49m\u001b[43m)\u001b[49m\n\u001b[1;32m     29\u001b[0m new_name_dict[\u001b[38;5;124m\"\u001b[39m\u001b[38;5;124msuffix\u001b[39m\u001b[38;5;124m\"\u001b[39m] \u001b[38;5;241m=\u001b[39m suffix\n\u001b[1;32m     31\u001b[0m new_name \u001b[38;5;241m=\u001b[39m \u001b[38;5;124m\"\u001b[39m\u001b[38;5;132;01m{year}\u001b[39;00m\u001b[38;5;124m_\u001b[39m\u001b[38;5;132;01m{grade}\u001b[39;00m\u001b[38;5;124m_\u001b[39m\u001b[38;5;132;01m{subject}\u001b[39;00m\u001b[38;5;124m_\u001b[39m\u001b[38;5;132;01m{trimester}\u001b[39;00m\u001b[38;5;132;01m{suffix}\u001b[39;00m\u001b[38;5;124m\"\u001b[39m\u001b[38;5;241m.\u001b[39mformat(\n\u001b[1;32m     32\u001b[0m     \u001b[38;5;241m*\u001b[39m\u001b[38;5;241m*\u001b[39mnew_name_dict,\n\u001b[1;32m     33\u001b[0m )\n",
      "Cell \u001b[0;32mIn[11], line 12\u001b[0m, in \u001b[0;36mget_new_name\u001b[0;34m(name)\u001b[0m\n\u001b[1;32m      2\u001b[0m \u001b[38;5;250m\u001b[39m\u001b[38;5;124;03m\"\"\"Rename a table name to be more readable.\u001b[39;00m\n\u001b[1;32m      3\u001b[0m \n\u001b[1;32m      4\u001b[0m \u001b[38;5;124;03mArgs:\u001b[39;00m\n\u001b[0;32m   (...)\u001b[0m\n\u001b[1;32m      9\u001b[0m \n\u001b[1;32m     10\u001b[0m \u001b[38;5;124;03m\"\"\"\u001b[39;00m\n\u001b[1;32m     11\u001b[0m \u001b[38;5;28mprint\u001b[39m(name)\n\u001b[0;32m---> 12\u001b[0m _, year, grade, subject, trimester \u001b[38;5;241m=\u001b[39m name\u001b[38;5;241m.\u001b[39msplit(\u001b[38;5;124m\"\u001b[39m\u001b[38;5;124m_\u001b[39m\u001b[38;5;124m\"\u001b[39m)\n\u001b[1;32m     13\u001b[0m \u001b[38;5;28;01mreturn\u001b[39;00m {\n\u001b[1;32m     14\u001b[0m     \u001b[38;5;124m\"\u001b[39m\u001b[38;5;124myear\u001b[39m\u001b[38;5;124m\"\u001b[39m: year,\n\u001b[1;32m     15\u001b[0m     \u001b[38;5;124m\"\u001b[39m\u001b[38;5;124mgrade\u001b[39m\u001b[38;5;124m\"\u001b[39m: grade,\n\u001b[1;32m     16\u001b[0m     \u001b[38;5;124m\"\u001b[39m\u001b[38;5;124msubject\u001b[39m\u001b[38;5;124m\"\u001b[39m: subjects[subject],\n\u001b[1;32m     17\u001b[0m     \u001b[38;5;124m\"\u001b[39m\u001b[38;5;124mtrimester\u001b[39m\u001b[38;5;124m\"\u001b[39m: trimesters\u001b[38;5;241m.\u001b[39mget(trimester),\n\u001b[1;32m     18\u001b[0m }\n",
      "\u001b[0;31mValueError\u001b[0m: not enough values to unpack (expected 5, got 4)"
     ]
    }
   ],
   "source": [
    "def get_new_name(name: str) -> dict[str, str]:\n",
    "    \"\"\"Rename a table name to be more readable.\n",
    "\n",
    "    Args:\n",
    "        name (str): The name of the table.\n",
    "\n",
    "    Returns:\n",
    "        dict[str, str]: A dictionary containing the new name for each column.s\n",
    "\n",
    "    \"\"\"\n",
    "    _, year, grade, subject, trimester = name.split(\"_\")\n",
    "    return {\n",
    "        \"year\": year,\n",
    "        \"grade\": grade,\n",
    "        \"subject\": subjects[subject],\n",
    "        \"trimester\": trimesters.get(trimester),\n",
    "    }\n",
    "\n",
    "\n",
    "# Rename tables\n",
    "dir_name = pathlib.Path(\"data\")\n",
    "\n",
    "for file in dir_name.iterdir():\n",
    "    suffix = file.suffix\n",
    "    name = file.stem\n",
    "\n",
    "    new_name_dict = get_new_name(name)\n",
    "    new_name_dict[\"suffix\"] = suffix\n",
    "\n",
    "    new_name = \"{year}_{grade}_{subject}_{trimester}{suffix}\".format(\n",
    "        **new_name_dict,\n",
    "    )\n",
    "\n",
    "    new_file = file.with_name(new_name)\n",
    "    file.rename(new_file)\n",
    "\n",
    "    logger.info(\"Renamed %s to %s\", file, new_file)"
   ]
  },
  {
   "cell_type": "code",
   "execution_count": 58,
   "metadata": {},
   "outputs": [],
   "source": [
    "def process_dataframe(df: pd.DataFrame, table_name: str) -> pd.DataFrame:\n",
    "    \"\"\"Process a dataframe and returns a processed dataframe.\n",
    "\n",
    "    Args:\n",
    "        df (pd.DataFrame): The dataframe to be processed.\n",
    "        table_name (str): The name of the table.\n",
    "\n",
    "    Returns:\n",
    "        pd.DataFrame: The processed dataframe.\n",
    "\n",
    "    \"\"\"\n",
    "    student_ids: list[str] = []\n",
    "    marks: list[int] = []\n",
    "\n",
    "    marks_data: list[str] = []\n",
    "    marks_weight: list[int] = []\n",
    "\n",
    "    student_ids_column = df.iloc[3:, 0]\n",
    "\n",
    "    df.iloc[3:, 0].dropna()\n",
    "\n",
    "    for col in df.columns:\n",
    "        mark_data = df[col][1]\n",
    "        mark_weight = df[col][2]\n",
    "\n",
    "        for i, val in enumerate(df[col][3:]):\n",
    "            if type(val) in {int, float} and pd.notna(val):\n",
    "                student_ids.append(student_ids_column[i + 3])\n",
    "                marks.append(val)\n",
    "                marks_data.append(mark_data)\n",
    "                marks_weight.append(mark_weight)\n",
    "\n",
    "    year, grade, subject, trimester = table_name.split(\"_\")\n",
    "    grade = grade.split(\"-\")[0]\n",
    "\n",
    "    result_df = pd.DataFrame(data={\"student_id\": student_ids, \"mark\": marks})\n",
    "    result_df[\"grade\"] = grade\n",
    "    result_df[\"subject\"] = subject\n",
    "    result_df[\"trimester\"] = trimester\n",
    "    result_df[\"year\"] = year\n",
    "    result_df[\"marks_data\"] = marks_data\n",
    "    result_df[\"marks_weight\"] = marks_weight\n",
    "\n",
    "    return result_df.dropna(subset=\"student_id\").reset_index(drop=True)"
   ]
  },
  {
   "cell_type": "code",
   "execution_count": 59,
   "metadata": {},
   "outputs": [],
   "source": [
    "main_df = pd.DataFrame(\n",
    "    columns=[\n",
    "        \"student_id\",\n",
    "        \"mark\",\n",
    "        \"grade\",\n",
    "        \"subject\",\n",
    "        \"trimester\",\n",
    "        \"year\",\n",
    "        \"marks_data\",\n",
    "        \"marks_weight\",\n",
    "    ],\n",
    ")\n",
    "\n",
    "# Get all files in the directory and process them to a dataframe\n",
    "for file in dir_name.iterdir():\n",
    "    suffix = file.suffix\n",
    "    name = file.stem\n",
    "\n",
    "    dataframe = pd.read_excel(file)\n",
    "    main_df = pd.concat(\n",
    "        [main_df, process_dataframe(dataframe, name)],\n",
    "        ignore_index=True,\n",
    "    )"
   ]
  },
  {
   "cell_type": "code",
   "execution_count": 60,
   "metadata": {},
   "outputs": [],
   "source": [
    "exclude_values = [\n",
    "    \"I\", \"II\", \"III\", \"Годовая\", \"Внутр. экз.\",\n",
    "]\n",
    "main_df = main_df[~main_df[\"marks_data\"].isin(exclude_values)]"
   ]
  },
  {
   "cell_type": "code",
   "execution_count": 61,
   "metadata": {},
   "outputs": [
    {
     "data": {
      "text/plain": [
       "(12, 12)"
      ]
     },
     "execution_count": 61,
     "metadata": {},
     "output_type": "execute_result"
    }
   ],
   "source": [
    "import re\n",
    "\n",
    "months = [\n",
    "    \"янв\",\n",
    "    \"фев\",\n",
    "    \"мар\",\n",
    "    \"апр\",\n",
    "    \"мая\",\n",
    "    \"июн\",\n",
    "    \"июл\",\n",
    "    \"авг\",\n",
    "    \"сен\",\n",
    "    \"окт\",\n",
    "    \"ноя\",\n",
    "    \"дек\",\n",
    "]\n",
    "months_dict = {month: i + 1 for i, month in enumerate(months)}\n",
    "\n",
    "\n",
    "def get_date(str_date: str) -> tuple[int, int] | None:\n",
    "    \"\"\"Convert string date to tuple (int, int).\n",
    "\n",
    "    Args:\n",
    "        str_date (str): string date in format \"ddmmm\"\n",
    "\n",
    "    Returns:\n",
    "        tuple[int, int] | None: tuple (int, int) or None if string is not valid\n",
    "\n",
    "    \"\"\"\n",
    "    re_match_number = re.match(r\"\\d+\", str_date)\n",
    "    if re_match_number is None:\n",
    "        return None\n",
    "\n",
    "    letter_match = re.search(r\"[а-яА-Я]+\", str_date)\n",
    "    if letter_match is None:\n",
    "        return None\n",
    "\n",
    "    int_date_number = int(re_match_number.group())\n",
    "    month = months_dict[letter_match.group()]\n",
    "    return int_date_number, month\n",
    "\n",
    "\n",
    "get_date(\"12дек\")"
   ]
  },
  {
   "cell_type": "code",
   "execution_count": 62,
   "metadata": {},
   "outputs": [
    {
     "data": {
      "text/plain": [
       "datetime.date(2022, 12, 13)"
      ]
     },
     "execution_count": 62,
     "metadata": {},
     "output_type": "execute_result"
    }
   ],
   "source": [
    "import datetime\n",
    "\n",
    "\n",
    "def get_datetime_date(datetime_string: int, year: str) -> datetime.date | None:\n",
    "    \"\"\"Get the date from a datetime string and year.\n",
    "\n",
    "    Args:\n",
    "        datetime_string (int): The datetime string.\n",
    "        year (str): The year.\n",
    "\n",
    "    Returns:\n",
    "        datetime.date | None: The date.\n",
    "\n",
    "    \"\"\"\n",
    "    target_year: int\n",
    "    begin_year, last_year = year.split(\"-\")\n",
    "    date_number, month = get_date(datetime_string)\n",
    "\n",
    "    jan_int, dec_int, sep_int = 1, 12, 9\n",
    "    if (month >= sep_int and month <= dec_int):\n",
    "        target_year = int(begin_year)\n",
    "    elif (month >= jan_int and month < sep_int):\n",
    "        target_year = int(last_year)\n",
    "    else:\n",
    "        return None\n",
    "\n",
    "    return datetime.date(target_year, month, date_number)\n",
    "\n",
    "\n",
    "get_datetime_date(datetime_string=\"13дек\", year=\"2022-2023\")"
   ]
  },
  {
   "cell_type": "code",
   "execution_count": 63,
   "metadata": {},
   "outputs": [],
   "source": [
    "main_df[\"mark_date\"] = main_df.apply(\n",
    "    lambda row: get_datetime_date(\n",
    "        datetime_string=row[\"marks_data\"],\n",
    "        year=row[\"year\"],\n",
    "    ),\n",
    "    axis=1,\n",
    ")\n",
    "main_df = main_df.drop(columns=[\"marks_data\", \"year\"])"
   ]
  },
  {
   "cell_type": "code",
   "execution_count": null,
   "metadata": {},
   "outputs": [
    {
     "name": "stdout",
     "output_type": "stream",
     "text": [
      "<class 'pandas.core.frame.DataFrame'>\n",
      "RangeIndex: 10594 entries, 0 to 10593\n",
      "Data columns (total 9 columns):\n",
      " #   Column        Non-Null Count  Dtype         \n",
      "---  ------        --------------  -----         \n",
      " 0   index         10594 non-null  int64         \n",
      " 1   student_id    10594 non-null  object        \n",
      " 2   mark          10594 non-null  int64         \n",
      " 3   grade         10594 non-null  int64         \n",
      " 4   subject       10594 non-null  object        \n",
      " 5   trimester     10594 non-null  int64         \n",
      " 6   marks_weight  10594 non-null  object        \n",
      " 7   mark_date     10594 non-null  datetime64[ns]\n",
      " 8   stuent_id     10594 non-null  object        \n",
      "dtypes: datetime64[ns](1), int64(4), object(4)\n",
      "memory usage: 745.0+ KB\n"
     ]
    }
   ],
   "source": [
    "main_df[\"stuent_id\"] = main_df[\"student_id\"].astype(str)\n",
    "main_df[\"mark\"] = main_df[\"mark\"].astype(int)\n",
    "main_df[\"grade\"] = main_df[\"grade\"].astype(int)\n",
    "main_df[\"subject\"] = main_df[\"subject\"].astype(str)\n",
    "main_df[\"trimester\"] = main_df[\"trimester\"].astype(int)\n",
    "main_df[\"marks_weight\"] = main_df[\"marks_weight\"].astype(str)\n",
    "main_df[\"mark_date\"] = pd.to_datetime(main_df[\"mark_date\"])\n",
    "\n",
    "main_df = main_df.reset_index()\n",
    "main_df.info()"
   ]
  }
 ],
 "metadata": {
  "kernelspec": {
   "display_name": "analysis-of-school-grades-gqLAOQUo-py3.12",
   "language": "python",
   "name": "python3"
  },
  "language_info": {
   "codemirror_mode": {
    "name": "ipython",
    "version": 3
   },
   "file_extension": ".py",
   "mimetype": "text/x-python",
   "name": "python",
   "nbconvert_exporter": "python",
   "pygments_lexer": "ipython3",
   "version": "3.12.7"
  }
 },
 "nbformat": 4,
 "nbformat_minor": 2
}
